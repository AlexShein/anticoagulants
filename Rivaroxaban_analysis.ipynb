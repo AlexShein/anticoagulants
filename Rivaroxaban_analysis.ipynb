{
 "cells": [
  {
   "cell_type": "code",
   "execution_count": 1,
   "metadata": {
    "ExecuteTime": {
     "end_time": "2019-11-03T16:36:09.662898Z",
     "start_time": "2019-11-03T16:36:08.345930Z"
    },
    "hide_input": false
   },
   "outputs": [],
   "source": [
    "import pandas as pd\n",
    "import matplotlib.pylab as plt\n",
    "import numpy as np\n",
    "import seaborn as sns\n",
    "from sklearn.preprocessing import LabelEncoder, LabelBinarizer\n",
    "from sklearn.ensemble import RandomForestClassifier, RandomForestRegressor\n",
    "from sklearn.model_selection import KFold, train_test_split\n",
    "from sklearn.metrics import (\n",
    "    roc_curve,\n",
    "    auc, accuracy_score,\n",
    "    precision_score,\n",
    "    recall_score,\n",
    "    precision_recall_curve,\n",
    "    average_precision_score,\n",
    ")\n",
    "from sklearn.multiclass import OneVsRestClassifier\n",
    "from sklearn.svm import SVC, SVR\n",
    "from sklearn.feature_selection import SelectFromModel\n",
    "from sklearn import linear_model\n",
    "\n",
    "from confusion_matrix import plot_confusion_matrix"
   ]
  },
  {
   "cell_type": "code",
   "execution_count": 2,
   "metadata": {
    "ExecuteTime": {
     "end_time": "2019-11-03T16:36:09.699247Z",
     "start_time": "2019-11-03T16:36:09.664940Z"
    }
   },
   "outputs": [],
   "source": [
    "# Plots stuff\n",
    "from pylab import rcParams\n",
    "\n",
    "rcParams['figure.figsize'] = 12, 8\n",
    "%matplotlib inline\n",
    "\n",
    "sns.set()\n",
    "\n",
    "plt.rcParams['figure.dpi'] = 100"
   ]
  },
  {
   "cell_type": "code",
   "execution_count": 3,
   "metadata": {
    "ExecuteTime": {
     "end_time": "2019-11-03T16:36:09.726364Z",
     "start_time": "2019-11-03T16:36:09.701423Z"
    }
   },
   "outputs": [],
   "source": [
    "random_seed = 2512\n",
    "random_state = np.random.RandomState(random_seed)"
   ]
  },
  {
   "cell_type": "markdown",
   "metadata": {},
   "source": [
    "# Loading and preparing data"
   ]
  },
  {
   "cell_type": "code",
   "execution_count": 4,
   "metadata": {
    "ExecuteTime": {
     "end_time": "2019-11-03T16:36:09.755180Z",
     "start_time": "2019-11-03T16:36:09.728523Z"
    }
   },
   "outputs": [],
   "source": [
    "OUTCOMES = ['Significant_bleeding_outcome', 'Stroke_outcome', 'Death_and_renal_failure', 'Death_inhosp',]\n",
    "AMBIGUOUS_COLUMNS = ['PRU_more208', 'PRU_less95']\n",
    "STRING_COLUMNS = ['AF_type', 'Stent_type', 'CYP4F2', 'P2Y12'] # These columns should be encoded with LabelEncoder\n",
    "MAX_PRU = 208 # Maximum and minimum PRU borders, lower and higher is an unsafe zone\n",
    "MIN_PRU = 95\n",
    "UNNEEDED_COLUMNS = [\n",
    "    'Agr_Platelets_Cat',\n",
    "    'Residual_more230',\n",
    "    'Residual_reactivity_less85',\n",
    "    'CrusadeScore_bleeding',\n",
    "    'Acatalepsia',\n",
    "    'Gastric',\n",
    "]\n",
    "NUMERIC_COLUMNS = [\n",
    "    'Age',\n",
    "    'GFR',\n",
    "    'PRU',\n",
    "    'Rivaroxaban_C_blood',\n",
    "    'inhibition',\n",
    "    'CRUSADE',\n",
    "    'SYNTAX_score',\n",
    "    'Hb',\n",
    "    'CHA2DS2VASC',\n",
    "    'Hasbled',\n",
    "    'Agr_Platelets_base',\n",
    "    'Rivaroxaban_dose',\n",
    "]"
   ]
  },
  {
   "cell_type": "code",
   "execution_count": 5,
   "metadata": {
    "ExecuteTime": {
     "end_time": "2019-11-03T16:36:09.900977Z",
     "start_time": "2019-11-03T16:36:09.757365Z"
    }
   },
   "outputs": [],
   "source": [
    "df = pd.read_csv('Rivaroxaban_fg.csv', header=0, index_col=0)[:103]\n",
    "\n",
    "SINGLE_VALUE_COLUMNS = [col for col in df.columns if len(df[col].unique()) == 1]\n",
    "SUSPICIOUS_MISSING_VALUES_COLUMNS = [col for col in df.columns if '-999' in df[col].unique()]\n",
    "BINARY_COLUMNS = [col for col in df.columns if len(df[col].unique()) == 2]\n",
    "\n",
    "df = df.drop([*UNNEEDED_COLUMNS, *AMBIGUOUS_COLUMNS, *SINGLE_VALUE_COLUMNS], axis=1)\n",
    "\n",
    "for outcome in OUTCOMES:\n",
    "    df[outcome] = df[outcome].replace(' ', 0).astype(float)\n",
    "\n",
    "for numeric_col in NUMERIC_COLUMNS:\n",
    "    df[numeric_col] = df[numeric_col].astype(float)\n",
    "\n",
    "for category_col in STRING_COLUMNS:\n",
    "    encoder = LabelEncoder()\n",
    "    df[category_col + '_encoded'] = encoder.fit_transform(df[category_col])\n",
    "    "
   ]
  },
  {
   "cell_type": "code",
   "execution_count": 6,
   "metadata": {
    "ExecuteTime": {
     "end_time": "2019-11-03T16:36:09.939007Z",
     "start_time": "2019-11-03T16:36:09.902969Z"
    }
   },
   "outputs": [
    {
     "data": {
      "text/plain": [
       "['Sex',\n",
       " 'C_rivar_137',\n",
       " 'STEMI',\n",
       " 'NSTEMI',\n",
       " 'Unstableangina',\n",
       " 'PCI',\n",
       " 'Death_inhosp',\n",
       " 'Obesity',\n",
       " 'Alcohol',\n",
       " 'Smoking',\n",
       " 'Cardiosclerosis',\n",
       " 'Previous_PCI',\n",
       " 'PreviousCABG',\n",
       " 'HighriskSYNTAX',\n",
       " 'Grace_score_risk',\n",
       " 'Heart_Stop',\n",
       " 'Hypertension',\n",
       " 'HeartFailure_before',\n",
       " 'Stroke',\n",
       " 'Previous_thromboses',\n",
       " 'Diabetes',\n",
       " 'PAD',\n",
       " 'COPD',\n",
       " 'Onco',\n",
       " 'Previous_bleeding',\n",
       " 'Anaemialessthan100',\n",
       " 'Plateletslessthan100',\n",
       " 'Highplateletsondischarge',\n",
       " 'Death_and_renal_failure',\n",
       " 'RenalFailure',\n",
       " 'HeartFailure',\n",
       " 'HasBLED39',\n",
       " 'DAPT_TAPT',\n",
       " 'Significant_bleeding_outcome',\n",
       " 'Stroke_outcome',\n",
       " 'CYP3A4_22',\n",
       " 'CYP3A5_3_A6986G',\n",
       " 'ABCB1_3435_Short',\n",
       " 'ABCB1_rs4148738_Short',\n",
       " 'CYP2C19_2_Short',\n",
       " 'CYP2C19_17_Short',\n",
       " 'CES1',\n",
       " 'CYP3A4_2242480',\n",
       " 'PON1',\n",
       " 'IGTB3',\n",
       " 'PEAR1_rs41273215']"
      ]
     },
     "execution_count": 6,
     "metadata": {},
     "output_type": "execute_result"
    }
   ],
   "source": [
    "BINARY_VALUES_COLUMNS = [col for col in df.columns if len(df[col].unique()) == 2]\n",
    "BINARY_VALUES_COLUMNS"
   ]
  },
  {
   "cell_type": "code",
   "execution_count": 7,
   "metadata": {
    "ExecuteTime": {
     "end_time": "2019-11-03T16:36:09.971616Z",
     "start_time": "2019-11-03T16:36:09.941050Z"
    }
   },
   "outputs": [
    {
     "data": {
      "text/plain": [
       "['Access', 'Stent_quant', 'SYNTAX_score']"
      ]
     },
     "execution_count": 7,
     "metadata": {},
     "output_type": "execute_result"
    }
   ],
   "source": [
    "SUSPICIOUS_MISSING_VALUES_COLUMNS"
   ]
  },
  {
   "cell_type": "code",
   "execution_count": 8,
   "metadata": {
    "ExecuteTime": {
     "end_time": "2019-11-03T16:36:10.022003Z",
     "start_time": "2019-11-03T16:36:09.978162Z"
    }
   },
   "outputs": [],
   "source": [
    "def _process_row_outcomes(row):\n",
    "    possible_outcomes = [outcome for outcome in OUTCOMES if row[outcome]]\n",
    "    if not possible_outcomes:\n",
    "        return 'Survived'\n",
    "    elif len(possible_outcomes) == 1:\n",
    "        return possible_outcomes[0]\n",
    "    elif (\n",
    "        'Significant_bleeding_outcome' in possible_outcomes and\n",
    "        'Death_and_renal_failure' in possible_outcomes\n",
    "    ):\n",
    "        return 'Death_renal_failure_bleeding' # Maybe later we'll have enough data points to consider this outcome\n",
    "    elif (\n",
    "        'Significant_bleeding_outcome' in possible_outcomes and\n",
    "        'Death_inhosp' in possible_outcomes\n",
    "    ):\n",
    "        return 'Death_in_hospital_bleeding' # Maybe later we'll have enough data points to consider this outcome\n",
    "    else:\n",
    "        return 'Death_renal_failure_inhosp'\n",
    "\n",
    "\n",
    "def process_row_outcomes(row):\n",
    "    outcome = _process_row_outcomes(row)\n",
    "    if 'Death' in outcome: # TODO Discuss\n",
    "        return 'Death'\n",
    "    elif (\n",
    "        outcome == 'Significant_bleeding_outcome' or \n",
    "        outcome == 'Stroke_outcome'\n",
    "    ):\n",
    "#         return 'Bleeding_or_stroke'\n",
    "        return 'Survived'\n",
    "    return outcome\n",
    "\n",
    "\n",
    "\n",
    "\n",
    "df['Outcome'] = df.apply(\n",
    "    process_row_outcomes,\n",
    "    axis = 1\n",
    ")\n"
   ]
  },
  {
   "cell_type": "markdown",
   "metadata": {},
   "source": [
    "# Initial analysis"
   ]
  },
  {
   "cell_type": "code",
   "execution_count": 9,
   "metadata": {
    "ExecuteTime": {
     "end_time": "2019-11-03T16:36:10.053720Z",
     "start_time": "2019-11-03T16:36:10.024490Z"
    }
   },
   "outputs": [
    {
     "data": {
      "text/plain": [
       "['Thrombosysis', 'CYP2C19_3_G636A']"
      ]
     },
     "execution_count": 9,
     "metadata": {},
     "output_type": "execute_result"
    }
   ],
   "source": [
    "SINGLE_VALUE_COLUMNS"
   ]
  },
  {
   "cell_type": "code",
   "execution_count": 10,
   "metadata": {
    "ExecuteTime": {
     "end_time": "2019-11-03T16:36:10.113477Z",
     "start_time": "2019-11-03T16:36:10.056580Z"
    }
   },
   "outputs": [
    {
     "data": {
      "text/html": [
       "<div>\n",
       "<style scoped>\n",
       "    .dataframe tbody tr th:only-of-type {\n",
       "        vertical-align: middle;\n",
       "    }\n",
       "\n",
       "    .dataframe tbody tr th {\n",
       "        vertical-align: top;\n",
       "    }\n",
       "\n",
       "    .dataframe thead th {\n",
       "        text-align: right;\n",
       "    }\n",
       "</style>\n",
       "<table border=\"1\" class=\"dataframe\">\n",
       "  <thead>\n",
       "    <tr style=\"text-align: right;\">\n",
       "      <th></th>\n",
       "      <th>Sex</th>\n",
       "      <th>Age</th>\n",
       "      <th>Rivaroxaban_C_blood</th>\n",
       "      <th>Agr_Platelets_base</th>\n",
       "      <th>inhibition</th>\n",
       "      <th>PRU</th>\n",
       "      <th>C_rivar_137</th>\n",
       "      <th>STEMI</th>\n",
       "      <th>NSTEMI</th>\n",
       "      <th>Unstableangina</th>\n",
       "      <th>...</th>\n",
       "      <th>CYP3A4_2242480</th>\n",
       "      <th>PON1</th>\n",
       "      <th>IGTB3</th>\n",
       "      <th>P2Y12</th>\n",
       "      <th>PEAR1_rs41273215</th>\n",
       "      <th>AF_type_encoded</th>\n",
       "      <th>Stent_type_encoded</th>\n",
       "      <th>CYP4F2_encoded</th>\n",
       "      <th>P2Y12_encoded</th>\n",
       "      <th>Outcome</th>\n",
       "    </tr>\n",
       "    <tr>\n",
       "      <th>Number</th>\n",
       "      <th></th>\n",
       "      <th></th>\n",
       "      <th></th>\n",
       "      <th></th>\n",
       "      <th></th>\n",
       "      <th></th>\n",
       "      <th></th>\n",
       "      <th></th>\n",
       "      <th></th>\n",
       "      <th></th>\n",
       "      <th></th>\n",
       "      <th></th>\n",
       "      <th></th>\n",
       "      <th></th>\n",
       "      <th></th>\n",
       "      <th></th>\n",
       "      <th></th>\n",
       "      <th></th>\n",
       "      <th></th>\n",
       "      <th></th>\n",
       "      <th></th>\n",
       "    </tr>\n",
       "  </thead>\n",
       "  <tbody>\n",
       "    <tr>\n",
       "      <th>1</th>\n",
       "      <td>1</td>\n",
       "      <td>81.0</td>\n",
       "      <td>204.0</td>\n",
       "      <td>195.0</td>\n",
       "      <td>48.0</td>\n",
       "      <td>102.0</td>\n",
       "      <td>1</td>\n",
       "      <td>0</td>\n",
       "      <td>1</td>\n",
       "      <td>0</td>\n",
       "      <td>...</td>\n",
       "      <td>1</td>\n",
       "      <td>2</td>\n",
       "      <td>1</td>\n",
       "      <td>1</td>\n",
       "      <td>1</td>\n",
       "      <td>2</td>\n",
       "      <td>2</td>\n",
       "      <td>2</td>\n",
       "      <td>1</td>\n",
       "      <td>Death</td>\n",
       "    </tr>\n",
       "    <tr>\n",
       "      <th>2</th>\n",
       "      <td>1</td>\n",
       "      <td>88.0</td>\n",
       "      <td>134.0</td>\n",
       "      <td>196.0</td>\n",
       "      <td>28.0</td>\n",
       "      <td>141.0</td>\n",
       "      <td>0</td>\n",
       "      <td>0</td>\n",
       "      <td>0</td>\n",
       "      <td>1</td>\n",
       "      <td>...</td>\n",
       "      <td>1</td>\n",
       "      <td>2</td>\n",
       "      <td>2</td>\n",
       "      <td>1</td>\n",
       "      <td>1</td>\n",
       "      <td>2</td>\n",
       "      <td>0</td>\n",
       "      <td>1</td>\n",
       "      <td>1</td>\n",
       "      <td>Death</td>\n",
       "    </tr>\n",
       "    <tr>\n",
       "      <th>3</th>\n",
       "      <td>1</td>\n",
       "      <td>81.0</td>\n",
       "      <td>242.0</td>\n",
       "      <td>211.0</td>\n",
       "      <td>13.0</td>\n",
       "      <td>183.0</td>\n",
       "      <td>1</td>\n",
       "      <td>0</td>\n",
       "      <td>1</td>\n",
       "      <td>0</td>\n",
       "      <td>...</td>\n",
       "      <td>1</td>\n",
       "      <td>2</td>\n",
       "      <td>1</td>\n",
       "      <td>2</td>\n",
       "      <td>2</td>\n",
       "      <td>2</td>\n",
       "      <td>3</td>\n",
       "      <td>2</td>\n",
       "      <td>2</td>\n",
       "      <td>Death</td>\n",
       "    </tr>\n",
       "    <tr>\n",
       "      <th>4</th>\n",
       "      <td>0</td>\n",
       "      <td>73.0</td>\n",
       "      <td>57.0</td>\n",
       "      <td>163.0</td>\n",
       "      <td>12.0</td>\n",
       "      <td>144.0</td>\n",
       "      <td>0</td>\n",
       "      <td>0</td>\n",
       "      <td>1</td>\n",
       "      <td>0</td>\n",
       "      <td>...</td>\n",
       "      <td>1</td>\n",
       "      <td>2</td>\n",
       "      <td>2</td>\n",
       "      <td>2</td>\n",
       "      <td>2</td>\n",
       "      <td>1</td>\n",
       "      <td>3</td>\n",
       "      <td>2</td>\n",
       "      <td>2</td>\n",
       "      <td>Survived</td>\n",
       "    </tr>\n",
       "    <tr>\n",
       "      <th>5</th>\n",
       "      <td>0</td>\n",
       "      <td>61.0</td>\n",
       "      <td>37.0</td>\n",
       "      <td>182.0</td>\n",
       "      <td>11.0</td>\n",
       "      <td>162.0</td>\n",
       "      <td>0</td>\n",
       "      <td>0</td>\n",
       "      <td>0</td>\n",
       "      <td>1</td>\n",
       "      <td>...</td>\n",
       "      <td>1</td>\n",
       "      <td>2</td>\n",
       "      <td>1</td>\n",
       "      <td>2</td>\n",
       "      <td>1</td>\n",
       "      <td>1</td>\n",
       "      <td>3</td>\n",
       "      <td>2</td>\n",
       "      <td>2</td>\n",
       "      <td>Survived</td>\n",
       "    </tr>\n",
       "  </tbody>\n",
       "</table>\n",
       "<p>5 rows × 75 columns</p>\n",
       "</div>"
      ],
      "text/plain": [
       "       Sex   Age  Rivaroxaban_C_blood  Agr_Platelets_base  inhibition    PRU  \\\n",
       "Number                                                                         \n",
       "1        1  81.0                204.0               195.0        48.0  102.0   \n",
       "2        1  88.0                134.0               196.0        28.0  141.0   \n",
       "3        1  81.0                242.0               211.0        13.0  183.0   \n",
       "4        0  73.0                 57.0               163.0        12.0  144.0   \n",
       "5        0  61.0                 37.0               182.0        11.0  162.0   \n",
       "\n",
       "       C_rivar_137 STEMI NSTEMI Unstableangina    ...    CYP3A4_2242480 PON1  \\\n",
       "Number                                            ...                          \n",
       "1                1     0      1              0    ...                 1    2   \n",
       "2                0     0      0              1    ...                 1    2   \n",
       "3                1     0      1              0    ...                 1    2   \n",
       "4                0     0      1              0    ...                 1    2   \n",
       "5                0     0      0              1    ...                 1    2   \n",
       "\n",
       "        IGTB3 P2Y12 PEAR1_rs41273215 AF_type_encoded Stent_type_encoded  \\\n",
       "Number                                                                    \n",
       "1           1     1                1               2                  2   \n",
       "2           2     1                1               2                  0   \n",
       "3           1     2                2               2                  3   \n",
       "4           2     2                2               1                  3   \n",
       "5           1     2                1               1                  3   \n",
       "\n",
       "       CYP4F2_encoded P2Y12_encoded   Outcome  \n",
       "Number                                         \n",
       "1                   2             1     Death  \n",
       "2                   1             1     Death  \n",
       "3                   2             2     Death  \n",
       "4                   2             2  Survived  \n",
       "5                   2             2  Survived  \n",
       "\n",
       "[5 rows x 75 columns]"
      ]
     },
     "execution_count": 10,
     "metadata": {},
     "output_type": "execute_result"
    }
   ],
   "source": [
    "df.head()"
   ]
  },
  {
   "cell_type": "code",
   "execution_count": 11,
   "metadata": {
    "ExecuteTime": {
     "end_time": "2019-11-03T16:36:10.143628Z",
     "start_time": "2019-11-03T16:36:10.115772Z"
    },
    "scrolled": true
   },
   "outputs": [
    {
     "data": {
      "text/plain": [
       "Index(['Sex', 'Age', 'Rivaroxaban_C_blood', 'Agr_Platelets_base', 'inhibition',\n",
       "       'PRU', 'C_rivar_137', 'STEMI', 'NSTEMI', 'Unstableangina', 'PCI',\n",
       "       'AF_type', 'Death_inhosp', 'Obesity', 'Alcohol', 'Smoking',\n",
       "       'Cardiosclerosis', 'Previous_PCI', 'PreviousCABG', 'Access',\n",
       "       'Stent_type', 'Stent_quant', 'HighriskSYNTAX', 'Grace_score_risk',\n",
       "       'SYNTAX_score', 'CRUSADE', 'Killip', 'Heart_Stop', 'Hypertension',\n",
       "       'HeartFailure_before', 'Stroke', 'Previous_thromboses', 'Diabetes',\n",
       "       'PAD', 'COPD', 'Onco', 'Previous_bleeding', 'Anaemialessthan100',\n",
       "       'Plateletslessthan100', 'Highplateletsondischarge',\n",
       "       'Death_and_renal_failure', 'RenalFailure', 'HeartFailure', 'HasBLED39',\n",
       "       'DAPT_TAPT', 'Hb', 'GFR', 'CHA2DS2VASC', 'Hasbled', 'duration_months',\n",
       "       'Rivaroxaban_dose', 'Significant_bleeding_outcome', 'Stroke_outcome',\n",
       "       'CYP3A4_22', 'ABCB1_С3435Т', 'ABCB1_СТrs4148738', 'CYP2C19_2_G681A',\n",
       "       'CYP2C19_17_C806T', 'CYP3A5_3_A6986G', 'ABCB1_3435_Short',\n",
       "       'ABCB1_rs4148738_Short', 'CYP2C19_2_Short', 'CYP2C19_17_Short',\n",
       "       'CYP4F2', 'CES1', 'CYP3A4_2242480', 'PON1', 'IGTB3', 'P2Y12',\n",
       "       'PEAR1_rs41273215', 'AF_type_encoded', 'Stent_type_encoded',\n",
       "       'CYP4F2_encoded', 'P2Y12_encoded', 'Outcome'],\n",
       "      dtype='object')"
      ]
     },
     "execution_count": 11,
     "metadata": {},
     "output_type": "execute_result"
    }
   ],
   "source": [
    "df.columns"
   ]
  },
  {
   "cell_type": "code",
   "execution_count": 12,
   "metadata": {
    "ExecuteTime": {
     "end_time": "2019-11-03T16:36:10.481069Z",
     "start_time": "2019-11-03T16:36:10.146577Z"
    }
   },
   "outputs": [
    {
     "data": {
      "text/plain": [
       "Text(0.5,1,'Data points distribution by Sex')"
      ]
     },
     "execution_count": 12,
     "metadata": {},
     "output_type": "execute_result"
    },
    {
     "data": {
      "image/png": "[encoded data removed]",
      "text/plain": [
       "<Figure size 600x400 with 1 Axes>"
      ]
     },
     "metadata": {},
     "output_type": "display_data"
    }
   ],
   "source": [
    "ax = df.Sex.value_counts().plot(kind='bar')\n",
    "ax.set_title('Data points distribution by Sex')"
   ]
  },
  {
   "cell_type": "code",
   "execution_count": 13,
   "metadata": {
    "ExecuteTime": {
     "end_time": "2019-11-03T16:36:10.648951Z",
     "start_time": "2019-11-03T16:36:10.483265Z"
    }
   },
   "outputs": [
    {
     "data": {
      "text/plain": [
       "Text(0.5,1,'Age distribution')"
      ]
     },
     "execution_count": 13,
     "metadata": {},
     "output_type": "execute_result"
    },
    {
     "data": {
      "image/png": "[encoded data removed]",
      "text/plain": [
       "<Figure size 600x400 with 1 Axes>"
      ]
     },
     "metadata": {},
     "output_type": "display_data"
    }
   ],
   "source": [
    "fig, ax = plt.subplots()\n",
    "df.Age.plot(kind='kde')\n",
    "ax.set_xlabel('Age')\n",
    "ax.set_title('Age distribution')"
   ]
  },
  {
   "cell_type": "code",
   "execution_count": 14,
   "metadata": {
    "ExecuteTime": {
     "end_time": "2019-11-03T16:36:10.798254Z",
     "start_time": "2019-11-03T16:36:10.651301Z"
    }
   },
   "outputs": [
    {
     "data": {
      "text/plain": [
       "Text(0.5,1,'Rivaroxaban_C_blood distribution')"
      ]
     },
     "execution_count": 14,
     "metadata": {},
     "output_type": "execute_result"
    },
    {
     "data": {
      "image/png": "[encoded data removed]",
      "text/plain": [
       "<Figure size 600x400 with 1 Axes>"
      ]
     },
     "metadata": {},
     "output_type": "display_data"
    }
   ],
   "source": [
    "fig, ax = plt.subplots()\n",
    "df.Rivaroxaban_C_blood.plot(kind='kde')\n",
    "ax.set_xlabel('Rivaroxaban_C_blood')\n",
    "ax.set_title('Rivaroxaban_C_blood distribution')"
   ]
  },
  {
   "cell_type": "code",
   "execution_count": 15,
   "metadata": {
    "ExecuteTime": {
     "end_time": "2019-11-03T16:36:10.956106Z",
     "start_time": "2019-11-03T16:36:10.800101Z"
    },
    "hide_input": false
   },
   "outputs": [
    {
     "data": {
      "text/plain": [
       "Text(0.5,1,'Agr_Platelets_base distribution')"
      ]
     },
     "execution_count": 15,
     "metadata": {},
     "output_type": "execute_result"
    },
    {
     "data": {
      "image/png": "[encoded data removed]",
      "text/plain": [
       "<Figure size 600x400 with 1 Axes>"
      ]
     },
     "metadata": {},
     "output_type": "display_data"
    }
   ],
   "source": [
    "fig, ax = plt.subplots()\n",
    "df.Agr_Platelets_base.plot(kind='kde')\n",
    "ax.set_xlabel('Agr_Platelets_base')\n",
    "ax.set_title('Agr_Platelets_base distribution')"
   ]
  },
  {
   "cell_type": "code",
   "execution_count": 16,
   "metadata": {
    "ExecuteTime": {
     "end_time": "2019-11-03T16:36:11.103038Z",
     "start_time": "2019-11-03T16:36:10.958148Z"
    }
   },
   "outputs": [
    {
     "data": {
      "text/plain": [
       "Text(0.5,1,'GFR distribution')"
      ]
     },
     "execution_count": 16,
     "metadata": {},
     "output_type": "execute_result"
    },
    {
     "data": {
      "image/png": "[encoded data removed]",
      "text/plain": [
       "<Figure size 600x400 with 1 Axes>"
      ]
     },
     "metadata": {},
     "output_type": "display_data"
    }
   ],
   "source": [
    "fig, ax = plt.subplots()\n",
    "df.GFR.plot(kind='kde')\n",
    "ax.set_xlabel('GFR')\n",
    "ax.set_title('GFR distribution')"
   ]
  },
  {
   "cell_type": "markdown",
   "metadata": {},
   "source": [
    "# Task number 1\n",
    "\n",
    "Concentration prediction\n",
    "\n",
    "Target columns -> `'Significant_bleeding_outcome', 'Stroke_outcome', 'Death_and_renal_failure', 'Death_inhosp'`\n"
   ]
  },
  {
   "cell_type": "markdown",
   "metadata": {},
   "source": [
    "## Using LOOCV to evaluate classification models \n",
    "\n",
    "### Data preparation"
   ]
  },
  {
   "cell_type": "code",
   "execution_count": 17,
   "metadata": {
    "ExecuteTime": {
     "end_time": "2019-11-03T16:36:11.144404Z",
     "start_time": "2019-11-03T16:36:11.105964Z"
    }
   },
   "outputs": [],
   "source": [
    "df2 = df[\n",
    "    [\n",
    "        col for col in df.columns\n",
    "        if not col in [\n",
    "            *OUTCOMES,\n",
    "            *STRING_COLUMNS,\n",
    "        ]\n",
    "    ]\n",
    "]\n",
    "df2 = df2.replace(' ', 0)\n",
    "\n",
    "\n",
    "encoder = LabelEncoder()\n",
    "df2['Outcome_encoded'] = encoder.fit_transform(df2.Outcome)\n",
    "X = df2[[col for col in df2.columns if not col.startswith('Outcome')]]\n",
    "Y = df2['Outcome_encoded']\n",
    "CLASS_NAMES = encoder.classes_"
   ]
  },
  {
   "cell_type": "markdown",
   "metadata": {},
   "source": [
    "### Applying LOOCV to models"
   ]
  },
  {
   "cell_type": "code",
   "execution_count": 18,
   "metadata": {
    "ExecuteTime": {
     "end_time": "2019-11-03T16:36:11.176359Z",
     "start_time": "2019-11-03T16:36:11.146222Z"
    }
   },
   "outputs": [],
   "source": [
    "from sklearn.model_selection import LeaveOneOut\n",
    "from sklearn.linear_model import LogisticRegression\n",
    "\n",
    "def evaluate_with_conf_matrix_loocv(model, X, Y, model_name):\n",
    "    ##### LOOCV MODEL EVALUATION AND CONFUSION MATRIX PLOT\n",
    "    loo = LeaveOneOut()\n",
    "    loo.get_n_splits(X)\n",
    "    predictions = []\n",
    "\n",
    "\n",
    "    for train, test in loo.split(X):\n",
    "        predictions.append(model.fit(X.iloc[train], Y.iloc[train]).predict(X.iloc[test])[0])\n",
    "\n",
    "    predictions = pd.Series(predictions)\n",
    "\n",
    "    with sns.axes_style(\"darkgrid\", {\"axes.grid\": False}):\n",
    "        plot_confusion_matrix(\n",
    "            Y,\n",
    "            predictions,\n",
    "            classes=CLASS_NAMES,\n",
    "            normalize=False,\n",
    "            title=f'Confusion matrix for {model_name}'\n",
    "        )\n",
    "\n",
    "        \n",
    "def plot_important_features(X, coefficients, name, normalize=True):\n",
    "    ##### TOP MOST IMPORTANT FEATURES PLOT\n",
    "\n",
    "    N_to_print = min(20, X.shape[1]) # Plot up to 20 most important features\n",
    "    y_pos = range(N_to_print)\n",
    "    fig, ax = plt.subplots()\n",
    "    plt.figure(figsize=(10,7))\n",
    "\n",
    "    feature_importance = coefficients.round(4)\n",
    "    feature_importance = zip(X.keys(), feature_importance)\n",
    "    feature_importance = np.array(sorted(\n",
    "        map(\n",
    "            lambda pair: pair[1] != abs(pair[1]) and ('[negative]' + pair[0], abs(pair[1])) or (pair[0], pair[1]),\n",
    "            feature_importance\n",
    "        ),\n",
    "        key=lambda x:x[1], reverse=True))\n",
    "    ax.barh(y_pos, feature_importance[:N_to_print, 1].astype('float'), align='center', color='green')\n",
    "    ax.set_yticks(np.arange(N_to_print))\n",
    "    ax.set_yticklabels(feature_importance[:N_to_print, 0])\n",
    "    ax.invert_yaxis()\n",
    "    ax.set_xlabel(f'Importance/coefficients for {name}')\n",
    "\n",
    "    plt.show()"
   ]
  },
  {
   "cell_type": "code",
   "execution_count": null,
   "metadata": {
    "ExecuteTime": {
     "start_time": "2019-11-03T16:36:08.384Z"
    },
    "scrolled": false
   },
   "outputs": [
    {
     "name": "stdout",
     "output_type": "stream",
     "text": [
      "################################### Random Forest ###################################\n"
     ]
    }
   ],
   "source": [
    "rf = RandomForestClassifier(n_jobs=6, n_estimators=50, random_state=random_state)\n",
    "svc = SVC(kernel='linear', random_state=random_state)\n",
    "log_reg = LogisticRegression(random_state=random_state, penalty='l1') # Use LASSO regularizer\n",
    "for name, model in [\n",
    "    ['Random Forest', rf],\n",
    "    ['SVC', svc],\n",
    "    ['Logistic Regression', log_reg],\n",
    "]:\n",
    "    print(f'{\"#\"*35} {name} {\"#\"*35}')\n",
    "    evaluate_with_conf_matrix_loocv(model, X, Y, name)\n",
    "    plot_important_features(X, model.coef_[0] if name != 'Random Forest' else model.feature_importances_, name)\n",
    "\n",
    "\n"
   ]
  },
  {
   "cell_type": "markdown",
   "metadata": {},
   "source": [
    "### Removing insignificant variables"
   ]
  },
  {
   "cell_type": "code",
   "execution_count": null,
   "metadata": {
    "ExecuteTime": {
     "start_time": "2019-11-03T16:36:08.385Z"
    }
   },
   "outputs": [],
   "source": [
    "transforming_model = SelectFromModel(log_reg, prefit=True)\n",
    "X_transformed = transforming_model.transform(X)\n",
    "feature_idx = transforming_model.get_support()\n",
    "feature_names = X.columns[feature_idx]\n",
    "X_transformed = pd.DataFrame(X_transformed, columns=X.columns[feature_idx])\n"
   ]
  },
  {
   "cell_type": "code",
   "execution_count": null,
   "metadata": {
    "ExecuteTime": {
     "start_time": "2019-11-03T16:36:08.388Z"
    }
   },
   "outputs": [],
   "source": [
    "feature_names"
   ]
  },
  {
   "cell_type": "markdown",
   "metadata": {},
   "source": [
    "### Testing models using only significant columns"
   ]
  },
  {
   "cell_type": "code",
   "execution_count": null,
   "metadata": {
    "ExecuteTime": {
     "start_time": "2019-11-03T16:36:08.392Z"
    },
    "scrolled": false
   },
   "outputs": [],
   "source": [
    "for name, model in [\n",
    "    ['Random Forest', rf],\n",
    "    ['SVC', svc],\n",
    "    ['Logistic Regression', log_reg],\n",
    "]:\n",
    "    print(f'{\"#\"*35} {name} {\"#\"*35}')\n",
    "    evaluate_with_conf_matrix_loocv(model, X_transformed, Y, name)\n",
    "    plot_important_features(X_transformed, model.coef_[0] if name != 'Random Forest' else model.feature_importances_, name)\n",
    "\n"
   ]
  },
  {
   "cell_type": "markdown",
   "metadata": {},
   "source": [
    "## Outcomes analysis"
   ]
  },
  {
   "cell_type": "code",
   "execution_count": null,
   "metadata": {
    "ExecuteTime": {
     "start_time": "2019-11-03T16:36:08.395Z"
    },
    "scrolled": false
   },
   "outputs": [],
   "source": [
    "fig, ax = plt.subplots()\n",
    "df2.groupby(\"Outcome\").GFR.plot(kind='kde')\n",
    "ax.legend([\"Death\", \"Survived\"]);\n",
    "ax.set_xlabel('GFR')\n",
    "ax.set_title('GFR grouped by outcome')"
   ]
  },
  {
   "cell_type": "code",
   "execution_count": null,
   "metadata": {
    "ExecuteTime": {
     "start_time": "2019-11-03T16:36:08.398Z"
    }
   },
   "outputs": [],
   "source": [
    "fig, ax = plt.subplots()\n",
    "df2.groupby(\"Outcome\").Age.plot(kind='kde')\n",
    "ax.legend([\"Death\", \"Survived\"]);\n",
    "ax.set_xlabel('Age')\n",
    "ax.set_title('Age grouped by outcome')"
   ]
  },
  {
   "cell_type": "code",
   "execution_count": null,
   "metadata": {
    "ExecuteTime": {
     "start_time": "2019-11-03T16:36:08.402Z"
    }
   },
   "outputs": [],
   "source": [
    "fig, ax = plt.subplots()\n",
    "df2.groupby(\"Outcome\").CRUSADE.plot(kind='kde')\n",
    "ax.legend([\"Death\", \"Survived\"]);\n",
    "ax.set_xlabel('CRUSADE')\n",
    "ax.set_title('CRUSADE grouped by outcome')"
   ]
  },
  {
   "cell_type": "code",
   "execution_count": null,
   "metadata": {
    "ExecuteTime": {
     "start_time": "2019-11-03T16:36:08.404Z"
    }
   },
   "outputs": [],
   "source": [
    "fig, ax = plt.subplots()\n",
    "df2.groupby(\"Outcome\").SYNTAX_score.plot(kind='kde')\n",
    "ax.legend([\"Death\", \"Survived\"]);\n",
    "ax.set_xlabel('SYNTAX_score')\n",
    "ax.set_title('SYNTAX_score grouped by outcome')"
   ]
  },
  {
   "cell_type": "code",
   "execution_count": null,
   "metadata": {
    "ExecuteTime": {
     "start_time": "2019-11-03T16:36:08.406Z"
    }
   },
   "outputs": [],
   "source": [
    "fig, ax = plt.subplots()\n",
    "df2.groupby(\"Outcome\").PRU.plot(kind='kde')\n",
    "ax.legend([\"Death\", \"Survived\"]);\n",
    "ax.set_xlabel('PRU')\n",
    "ax.set_title('PRU grouped by outcome')"
   ]
  },
  {
   "cell_type": "code",
   "execution_count": null,
   "metadata": {
    "ExecuteTime": {
     "start_time": "2019-11-03T16:36:08.414Z"
    }
   },
   "outputs": [],
   "source": [
    "fig, ax = plt.subplots()\n",
    "df2.groupby(\"Outcome\").Hb.plot(kind='kde')\n",
    "ax.legend([\"Death\", \"Survived\"]);\n",
    "ax.set_xlabel('Hb')\n",
    "ax.set_title('Hb grouped by outcome')\n"
   ]
  },
  {
   "cell_type": "code",
   "execution_count": null,
   "metadata": {
    "ExecuteTime": {
     "start_time": "2019-11-03T16:36:08.416Z"
    }
   },
   "outputs": [],
   "source": [
    "fig, ax = plt.subplots()\n",
    "df2.groupby(\"Outcome\").Rivaroxaban_C_blood.plot(kind='kde')\n",
    "ax.legend([\"Death\", \"Survived\"]);\n",
    "ax.set_xlabel('Rivaroxaban_C_blood')\n",
    "ax.set_title('Rivaroxaban_C_blood grouped by outcome')"
   ]
  },
  {
   "cell_type": "markdown",
   "metadata": {},
   "source": [
    "# Task number 2\n",
    "\n",
    "Concentration prediction\n",
    "\n",
    "Target column -> `Rivaroxaban_C_blood`\n",
    "\n",
    "## Removing outcome and missing values columns "
   ]
  },
  {
   "cell_type": "code",
   "execution_count": null,
   "metadata": {
    "ExecuteTime": {
     "start_time": "2019-11-03T16:36:08.421Z"
    }
   },
   "outputs": [],
   "source": [
    "df3 = df[\n",
    "    [\n",
    "        col for col in df.columns\n",
    "        if not col in [\n",
    "            *OUTCOMES,\n",
    "            *STRING_COLUMNS,\n",
    "            *SUSPICIOUS_MISSING_VALUES_COLUMNS,\n",
    "            *['Outcome',]\n",
    "        ]\n",
    "    ]\n",
    "]\n",
    "df3 = df3.replace(' ', 0)\n",
    "\n",
    "X_reg = df3[[col for col in df3.columns if not col in ['Rivaroxaban_C_blood', 'C_rivar_137']]]\n",
    "# Leaving only numeric or binary columns\n",
    "X_reg = X_reg[[col for col in X_reg.columns if col in [*NUMERIC_COLUMNS, *BINARY_VALUES_COLUMNS]]]\n",
    "Y_reg = df3.Rivaroxaban_C_blood\n"
   ]
  },
  {
   "cell_type": "markdown",
   "metadata": {},
   "source": [
    "## Compute baseline error - simple average prediction"
   ]
  },
  {
   "cell_type": "code",
   "execution_count": null,
   "metadata": {
    "ExecuteTime": {
     "start_time": "2019-11-03T16:36:08.424Z"
    }
   },
   "outputs": [],
   "source": [
    "from sklearn.metrics import mean_squared_error\n",
    "\n",
    "Y_avg = np.full(Y_reg.shape[0], Y_reg.mean())\n",
    "baseline_mse = mean_squared_error(Y_reg, Y_avg)\n",
    "baseline_mse"
   ]
  },
  {
   "cell_type": "markdown",
   "metadata": {},
   "source": [
    "## Validating models"
   ]
  },
  {
   "cell_type": "code",
   "execution_count": null,
   "metadata": {
    "ExecuteTime": {
     "start_time": "2019-11-03T16:36:08.427Z"
    }
   },
   "outputs": [],
   "source": [
    "regression_models = [\n",
    "    ['lasso alpha 1', linear_model.Lasso(alpha=1, random_state=random_state)],\n",
    "    ['lasso alpha 100', linear_model.Lasso(alpha=100, random_state=random_state)],\n",
    "    ['SVR', SVR(kernel='linear')],\n",
    "    ['RF reg 2 50', RandomForestRegressor(max_depth=2, random_state=random_state, n_estimators=50)],\n",
    "    ['RF reg 4 100', RandomForestRegressor(max_depth=4, random_state=random_state, n_estimators=100)],\n",
    "]\n"
   ]
  },
  {
   "cell_type": "code",
   "execution_count": null,
   "metadata": {
    "ExecuteTime": {
     "start_time": "2019-11-03T16:36:08.429Z"
    }
   },
   "outputs": [],
   "source": [
    "def evaluate_regression_model(model, X, Y, model_name):\n",
    "    kfold = KFold(n_splits=10)\n",
    "\n",
    "    mse_s_over_folds = []\n",
    "    predictions = []\n",
    "    for train, test in kfold.split(X):\n",
    "        Y_pred = model.fit(X.iloc[train], Y.iloc[train]).predict(X.iloc[test])\n",
    "        mse_s_over_folds.append(mean_squared_error(Y.iloc[test], Y_pred))\n",
    "        predictions.extend(Y_pred)\n",
    "    ax = sns.lineplot(\n",
    "        x=np.arange(0,10), y=mse_s_over_folds, \n",
    "    )\n",
    "    ax.set_label(model_name)\n",
    "    ax.set_title(f'MSE metric by folds')\n",
    "    print(f'Resulting MSE for {model_name} is {sum(mse_s_over_folds)/10}')\n",
    "    return predictions"
   ]
  },
  {
   "cell_type": "code",
   "execution_count": null,
   "metadata": {
    "ExecuteTime": {
     "start_time": "2019-11-03T16:36:08.432Z"
    },
    "scrolled": false
   },
   "outputs": [],
   "source": [
    "for model_name, model in regression_models:\n",
    "    evaluate_regression_model(model, X_reg, Y_reg, model_name)\n",
    "plt.legend([i[0] for i in regression_models])"
   ]
  },
  {
   "cell_type": "code",
   "execution_count": null,
   "metadata": {
    "ExecuteTime": {
     "start_time": "2019-11-03T16:36:08.434Z"
    }
   },
   "outputs": [],
   "source": [
    "X_reg.columns"
   ]
  },
  {
   "cell_type": "code",
   "execution_count": null,
   "metadata": {
    "ExecuteTime": {
     "start_time": "2019-11-03T16:36:08.436Z"
    }
   },
   "outputs": [],
   "source": [
    "lasso_reg = linear_model.Lasso(alpha=100, random_state=random_state)\n",
    "lasso_reg.fit(X_reg, Y_reg)\n",
    "plot_important_features(X_reg, lasso_reg.coef_, 'Linear model + LASSO top features')\n"
   ]
  },
  {
   "cell_type": "markdown",
   "metadata": {},
   "source": [
    "## Using PCA to reduce dimensions "
   ]
  },
  {
   "cell_type": "code",
   "execution_count": null,
   "metadata": {
    "ExecuteTime": {
     "start_time": "2019-11-03T16:36:08.439Z"
    }
   },
   "outputs": [],
   "source": [
    "from sklearn.decomposition import PCA\n",
    "\n",
    "pca = PCA(n_components=2)\n",
    "X_pca = pd.DataFrame(pca.fit_transform(X_reg))"
   ]
  },
  {
   "cell_type": "code",
   "execution_count": null,
   "metadata": {
    "ExecuteTime": {
     "start_time": "2019-11-03T16:36:08.441Z"
    }
   },
   "outputs": [],
   "source": [
    "results = {}\n",
    "for model_name, model in regression_models:\n",
    "    predictions = evaluate_regression_model(model, X_pca, Y_reg, model_name)\n",
    "    results[model_name] = predictions\n",
    "plt.legend([i[0] for i in regression_models])"
   ]
  },
  {
   "cell_type": "code",
   "execution_count": null,
   "metadata": {
    "ExecuteTime": {
     "start_time": "2019-11-03T16:36:08.443Z"
    }
   },
   "outputs": [],
   "source": [
    "pca1 = PCA(n_components=1)\n",
    "X_pca1 = pd.DataFrame(pca1.fit_transform(X_reg))"
   ]
  },
  {
   "cell_type": "code",
   "execution_count": null,
   "metadata": {
    "ExecuteTime": {
     "start_time": "2019-11-03T16:36:08.445Z"
    }
   },
   "outputs": [],
   "source": [
    "results = {}\n",
    "for model_name, model in regression_models:\n",
    "    predictions = evaluate_regression_model(model, X_pca1, Y_reg, model_name)\n",
    "    results[model_name] = predictions\n",
    "plt.legend([i[0] for i in regression_models])"
   ]
  },
  {
   "cell_type": "markdown",
   "metadata": {},
   "source": [
    "## Regression Summary:\n",
    "All models trained both using raw dataset and PCA showed worse performance than simply predicting average all the time"
   ]
  },
  {
   "cell_type": "code",
   "execution_count": null,
   "metadata": {
    "ExecuteTime": {
     "start_time": "2019-11-03T16:36:08.448Z"
    },
    "scrolled": false
   },
   "outputs": [],
   "source": [
    "fig, ax = plt.subplots()\n",
    "fig.set_size_inches(12,8)\n",
    "plt.scatter(X_pca1, Y_reg, alpha=0.9, s=10)\n",
    "plt.scatter(X_pca1, Y_avg, alpha=0.9, s=10)\n",
    "# plt.scatter(X_pca1, results['RF reg 2 50'], alpha=0.9, s=10)\n",
    "\n",
    "legend = [\n",
    "    'Real concentration',\n",
    "    f'Baseline mse={baseline_mse:.1f}',\n",
    "]\n",
    "for model in ['lasso alpha 100', 'RF reg 2 50']:\n",
    "    plt.scatter(X_pca1, results[model], alpha=0.9, s=10)\n",
    "    mse = mean_squared_error(results[model], Y_reg)\n",
    "    legend.append(f'{model} mse={mse:.1f}')\n",
    "\n",
    "ax.set_xlabel('PCA collapsed dimension')\n",
    "ax.set_ylabel('Drug concentration')\n",
    "ax.set_title('Rivaroxaban_C_blood grouped by outcome')\n",
    "plt.legend(legend)\n",
    "\n"
   ]
  },
  {
   "cell_type": "markdown",
   "metadata": {
    "ExecuteTime": {
     "end_time": "2019-11-03T16:28:46.067931Z",
     "start_time": "2019-11-03T16:28:45.912007Z"
    }
   },
   "source": [
    "## Visualize dots using 2-dimensional PCA"
   ]
  },
  {
   "cell_type": "code",
   "execution_count": null,
   "metadata": {
    "ExecuteTime": {
     "start_time": "2019-11-03T16:36:08.452Z"
    }
   },
   "outputs": [],
   "source": [
    "X_pca.columns = ['First PCA dimension', 'Second PCA dimension']\n",
    "ax = sns.scatterplot(x='First PCA dimension', y='Second PCA dimension', data=X_pca)"
   ]
  },
  {
   "cell_type": "code",
   "execution_count": null,
   "metadata": {
    "ExecuteTime": {
     "start_time": "2019-11-03T16:36:08.454Z"
    }
   },
   "outputs": [],
   "source": [
    "df_vars = pd.DataFrame(pca.components_, columns=X_reg.columns, index=['PC-1','PC-2'])\n",
    "df_vars"
   ]
  },
  {
   "cell_type": "code",
   "execution_count": null,
   "metadata": {},
   "outputs": [],
   "source": []
  }
 ],
 "metadata": {
  "kernelspec": {
   "display_name": "Python 3",
   "language": "python",
   "name": "python3"
  },
  "language_info": {
   "codemirror_mode": {
    "name": "ipython",
    "version": 3
   },
   "file_extension": ".py",
   "mimetype": "text/x-python",
   "name": "python",
   "nbconvert_exporter": "python",
   "pygments_lexer": "ipython3",
   "version": "3.6.5"
  },
  "toc": {
   "base_numbering": 1,
   "nav_menu": {},
   "number_sections": true,
   "sideBar": true,
   "skip_h1_title": false,
   "title_cell": "Table of Contents",
   "title_sidebar": "Contents",
   "toc_cell": false,
   "toc_position": {
    "height": "calc(100% - 180px)",
    "left": "10px",
    "top": "150px",
    "width": "376px"
   },
   "toc_section_display": true,
   "toc_window_display": true
  }
 },
 "nbformat": 4,
 "nbformat_minor": 2
}
